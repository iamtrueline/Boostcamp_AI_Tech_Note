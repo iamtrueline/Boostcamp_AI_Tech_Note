{
  "nbformat": 4,
  "nbformat_minor": 0,
  "metadata": {
    "colab": {
      "name": "Assignment1[문제]__Gradient_Descent_T2005.ipynb",
      "provenance": [],
      "collapsed_sections": [],
      "toc_visible": true
    },
    "kernelspec": {
      "name": "python3",
      "display_name": "Python 3"
    },
    "language_info": {
      "name": "python"
    }
  },
  "cells": [
    {
      "cell_type": "markdown",
      "metadata": {
        "id": "vPhRpnGbllOL"
      },
      "source": [
        "# Assignment 1: Gradient Descent\n",
        "\n",
        "\n",
        "---\n",
        "\n",
        "본 과제에서는 경사하강법(Gradient Descent)를 구현해보도록 하겠습니다."
      ]
    },
    {
      "cell_type": "markdown",
      "metadata": {
        "id": "_rPsh3Gm07LV"
      },
      "source": [
        "## 1. Gradient Descent (1)\n",
        "\n",
        "먼저 [SymPy library](https://www.sympy.org/en/index.html)를 사용하여 간단한 이차함수의 최솟값을 gradient descent 방법으로 찾는 문제입니다.\n",
        "\n",
        "#### **func_gradient**\n",
        "- sym.diff 함수는 도함수를 구해줍니다.\n",
        "\n",
        "#### **gradient_descent**\n",
        "- init_point는 경사하강법의 시작점을 의미합니다.\n",
        "- lr_rate는 learning rate로 step의 크기를 정해줍니다.\n",
        "- epsilon은 gradient 크기의 lower bound입니다."
      ]
    },
    {
      "cell_type": "code",
      "metadata": {
        "id": "4bnWEgmKuJ1J"
      },
      "source": [
        "import numpy as np\n",
        "import sympy as sym\n",
        "from sympy.abc import x\n",
        "from sympy.plotting import plot\n",
        "\n",
        "def func(val):\n",
        "    fun = sym.poly(x**2 + 2*x + 3) # f(x) = x^2 + 2x + 3\n",
        "    return fun.subs(x, val), fun # f(val), f(x)\n",
        "\n",
        "def func_gradient(fun, val):\n",
        "    ## TODO\n",
        "    _, function = fun(val)\n",
        "    diff = sym.diff(function, x) # 미분 - sym function 이용\n",
        "    return diff.subs(x, val), diff\n",
        "\n",
        "def gradient_descent(fun, init_point, lr_rate=1e-2, epsilon=1e-5):\n",
        "    cnt = 0\n",
        "    val = init_point\n",
        "    ## TODO\n",
        "    diff, _ = func_gradient(fun, init_point) # 첫 1회.\n",
        "    while np.abs(diff) > epsilon: # 미분값이 아주 작아진다면(0이 되긴 어렵다) 멈춘다\n",
        "      val = val - lr_rate*diff # 경사하강법은 학습률*미분값을 계속 빼주면서 진행\n",
        "      diff, _ = func_gradient(fun, val)\n",
        "      cnt += 1\n",
        "    \n",
        "    print(\"함수: {}\\n연산횟수: {}\\n최소점: ({}, {})\".format(fun(val)[1], cnt, val, fun(val)[0]))"
      ],
      "execution_count": null,
      "outputs": []
    },
    {
      "cell_type": "markdown",
      "metadata": {
        "id": "9YD3VUeBWuz4"
      },
      "source": [
        "- 목표 =  (-1,2)"
      ]
    },
    {
      "cell_type": "code",
      "metadata": {
        "id": "YFdjdR5vC0bG",
        "colab": {
          "base_uri": "https://localhost:8080/"
        },
        "outputId": "efc8fac9-dce7-411c-ded5-b389cd31b169"
      },
      "source": [
        "gradient_descent(fun = func, init_point = 3)"
      ],
      "execution_count": null,
      "outputs": [
        {
          "output_type": "stream",
          "text": [
            "함수: Poly(x**2 + 2*x + 3, x, domain='ZZ')\n",
            "연산횟수: 673\n",
            "최소점: (-0.999995020234038, 2.00000000002480)\n"
          ],
          "name": "stdout"
        }
      ]
    },
    {
      "cell_type": "markdown",
      "metadata": {
        "id": "udMVpeMaXJhB"
      },
      "source": [
        "## 2. Gradient Descent (2)\n",
        "\n",
        "그럼 이번에는 sympy library를 사용하지 않고 직접 Gradient Descent를 구현해봅시다!\n",
        "\n",
        "\n"
      ]
    },
    {
      "cell_type": "markdown",
      "metadata": {
        "id": "u1ygwhh4m2ex"
      },
      "source": [
        "$$ f'(x) = \\lim_{h \\rightarrow\n",
        " 0} \\frac{f(x+h)-f(x)}{h} $$"
      ]
    },
    {
      "cell_type": "markdown",
      "metadata": {
        "id": "-nYj3r-Pm1Ln"
      },
      "source": [
        "- 원래의 미분 공식은 위와 같이 h를 0의 극한으로 보내면 되지만, 컴퓨터 상에서는 불가능하기 때문에 h에 1e-9와 같이 아주 작은 수를 넣어줌으로써 유사한 변화율을 구합니다.\n",
        "\n",
        "#### **difference_quotient(f, x, h)**\n",
        "- h만큼 움직였을 때의 변화율을 계산해주는 코드입니다.\n",
        "- h는 1e-9와 같이 매우 작은 수가 들어갑니다.\n",
        "- f에는 아래에 정의된 func 함수가 들어가고, x에는 변화율을 계산할 point가 들어갑니다."
      ]
    },
    {
      "cell_type": "code",
      "metadata": {
        "id": "x4Lj4vl1KEDn"
      },
      "source": [
        "def func(val):\n",
        "    fun = sym.poly(x**2 + 2*x + 3) # f(x) = x^2 + 2x + 3\n",
        "    return fun.subs(x, val) # f(val)\n",
        "\n",
        "def difference_quotient(f, x, h=1e-9):\n",
        "    ## Todo\n",
        "    return (func(x + h) - func(x)) / h # 미분 - 미분 공식 이용\n",
        "\n",
        "def gradient_descent(func, init_point, lr_rate=1e-2, epsilon=1e-5):\n",
        "    cnt = 0\n",
        "    val = init_point\n",
        "    ## Todo\n",
        "    diff = difference_quotient(func, init_point) # 첫 1회.\n",
        "    while np.abs(diff) > epsilon: # 미분값이 아주 작아진다면(0이 되긴 어렵다) 멈춘다\n",
        "      val = val - lr_rate*diff # 경사하강법은 학습률*미분값을 계속 빼주면서 진행\n",
        "      diff = difference_quotient(func, val)\n",
        "      cnt += 1\n",
        "    print(\"연산횟수: {}\\n최소점: ({}, {})\".format(cnt, val, func(val)))"
      ],
      "execution_count": null,
      "outputs": []
    },
    {
      "cell_type": "markdown",
      "metadata": {
        "id": "YdcEETTyW5s8"
      },
      "source": [
        "- 목표 =  (-1,2)"
      ]
    },
    {
      "cell_type": "code",
      "metadata": {
        "id": "rg_K54iaC-rS",
        "colab": {
          "base_uri": "https://localhost:8080/"
        },
        "outputId": "e498aedf-714b-46cc-b1c9-b3f39faaac56"
      },
      "source": [
        "gradient_descent(func, init_point=3)"
      ],
      "execution_count": null,
      "outputs": [
        {
          "output_type": "stream",
          "text": [
            "연산횟수: 672\n",
            "최소점: (-0.999994846459742, 2.00000000002656)\n"
          ],
          "name": "stdout"
        }
      ]
    },
    {
      "cell_type": "markdown",
      "metadata": {
        "id": "k7C4-EzC4azr"
      },
      "source": [
        "## 3. Linear Regression\n",
        "- 그럼 이제 본격적으로 Gradient Descent를 활용한 Linear Regression을 구현해 봅시다.\n",
        "\n",
        "### **3-1. Basic function**\n",
        "#### **Dataset 1** : train_x, train_y\n",
        "$$y = wx + b$$ $$y = 7x + 2$$\n",
        "- 위의 식을 알아내기 위해서 train_x, train_y의 data point를 가지고 Linear Regression을 진행합니다.\n",
        "- 목표 = (7,2)"
      ]
    },
    {
      "cell_type": "code",
      "metadata": {
        "id": "Y4yOk4jR4aog",
        "colab": {
          "base_uri": "https://localhost:8080/"
        },
        "outputId": "094cc6cd-07d6-41d4-877f-60c9090a1acc"
      },
      "source": [
        "train_x = (np.random.rand(1000) - 0.5) * 10\n",
        "train_y = np.zeros_like(train_x)\n",
        "\n",
        "def func(val):\n",
        "    fun = sym.poly(7*x + 2)\n",
        "    return fun.subs(x, val)\n",
        "\n",
        "for i in range(1000):\n",
        "    train_y[i] = func(train_x[i])\n",
        "\n",
        "# initialize\n",
        "w, b = 0.0, 0.0\n",
        "\n",
        "lr_rate = 1e-2\n",
        "n_data = len(train_x)\n",
        "errors = []\n",
        "\n",
        "for i in range(100):\n",
        "    ## Todo\n",
        "    # 예측값 y\n",
        "    _y = w*train_x + b\n",
        "    er = _y - train_y # 오차\n",
        "\n",
        "    # gradient\n",
        "    # 목적 함수는 평균 제곱 오차\n",
        "    gradient_w = np.sum((w * train_x - train_y + b) * 2 * train_x) / n_data \n",
        "    gradient_b = np.sum((w * train_x - train_y + b) * 2) / n_data\n",
        "\n",
        "    # w, b update with gradient and learning rate\n",
        "    # 학습률*미분값을 계속 빼주면서 진행\n",
        "    w = w - lr_rate * gradient_w \n",
        "    b = b - lr_rate * gradient_b\n",
        "\n",
        "    # L2 norm과 np_sum 함수 활용해서 error 정의\n",
        "    error = np.linalg.norm(er, ord=2)\n",
        "    # Error graph 출력하기 위한 부분\n",
        "    errors.append(error)\n",
        "\n",
        "print(\"w : {} / b : {} / error : {}\".format(w, b, error))"
      ],
      "execution_count": null,
      "outputs": [
        {
          "output_type": "stream",
          "text": [
            "w : 7.001761502051882 / b : 1.7409011254915827 / error : 8.359322889786137\n"
          ],
          "name": "stdout"
        }
      ]
    },
    {
      "cell_type": "markdown",
      "metadata": {
        "id": "lqXgO77MDMvN"
      },
      "source": [
        "* 이제 plot 함수를 이용해서 full-batch gradient descent를 사용한 경우, error가 어떻게 줄어드는지 확인해봅시다."
      ]
    },
    {
      "cell_type": "markdown",
      "metadata": {
        "id": "KmZS46t9W7uG"
      },
      "source": [
        ""
      ]
    },
    {
      "cell_type": "code",
      "metadata": {
        "id": "yPfF6tHbDQSR"
      },
      "source": [
        "from IPython.display import clear_output\n",
        "import matplotlib.pyplot as plt\n",
        "%matplotlib inline\n",
        "\n",
        "def plot(errors):\n",
        "    clear_output(True)\n",
        "    plt.figure(figsize=(20,5))\n",
        "    plt.ylabel('error')\n",
        "    plt.xlabel('time step')\n",
        "    plt.plot(errors)\n",
        "    plt.show()"
      ],
      "execution_count": null,
      "outputs": []
    },
    {
      "cell_type": "code",
      "metadata": {
        "id": "WmNczAWrDRm2",
        "colab": {
          "base_uri": "https://localhost:8080/",
          "height": 334
        },
        "outputId": "6c5fdee4-009b-40f1-97bb-98e614cb99e8"
      },
      "source": [
        "plot(errors)"
      ],
      "execution_count": null,
      "outputs": [
        {
          "output_type": "display_data",
          "data": {
            "image/png": "[encoded data removed]",
            "text/plain": [
              "<Figure size 1440x360 with 1 Axes>"
            ]
          },
          "metadata": {
            "tags": [],
            "needs_background": "light"
          }
        }
      ]
    },
    {
      "cell_type": "markdown",
      "metadata": {
        "id": "nOU3Rq3TDVHp"
      },
      "source": [
        "### **3.2. More complicated function**\n",
        "#### **Dataset 2** : train_x, train_y\n",
        "- 이번에는 좀 더 복잡한 선형식에 대한 Regression을 진행해봅시다 !\n",
        "$$ y = w_0x_0 + w_1x_1 + w_2x_2 + b $$\n",
        "$$ y = x_0 + 3x_1 + 5x_2 + 7$$\n",
        "\n",
        "- 각 element의 계수를 beta_gd로 설정 : random initialize ( 목표 정답은 [1, 3, 5, 7] )\n",
        "- 이번에는 np.transpose 함수를 활용하여 gradient를 계산해봅시다."
      ]
    },
    {
      "cell_type": "code",
      "metadata": {
        "id": "ZbCGTSZt1LRC",
        "colab": {
          "base_uri": "https://localhost:8080/"
        },
        "outputId": "b835bafc-436e-4ded-d30f-875e22a7647a"
      },
      "source": [
        "train_x = np.array([[1,1,1], [1,1,2], [1,2,2], [2,2,3], [2,3,3], [1,2,3]])\n",
        "train_y = np.dot(train_x, np.array([1,3,5])) + 7\n",
        "\n",
        "# random initialize\n",
        "beta_gd = [9.4, 10.6, -3.7, -1.2]\n",
        "# for constant element\n",
        "expand_x = np.array([np.append(x, [1]) for x in train_x])\n",
        "\n",
        "for t in range(5000):\n",
        "    ## Todo\n",
        "    error = train_y - expand_x @ beta_gd\n",
        "    grad = - np.transpose(expand_x) @ error\n",
        "    beta_gd = beta_gd - 0.01 * grad\n",
        "\n",
        "print(\"After gradient descent, beta_gd : {}\".format(beta_gd))"
      ],
      "execution_count": null,
      "outputs": [
        {
          "output_type": "stream",
          "text": [
            "After gradient descent, beta_gd : [1.         3.         5.         6.99999999]\n"
          ],
          "name": "stdout"
        }
      ]
    },
    {
      "cell_type": "markdown",
      "metadata": {
        "id": "JHRiic4_6LlB"
      },
      "source": [
        "## 4. Stochastic Gradient Descent\n",
        "\n"
      ]
    },
    {
      "cell_type": "markdown",
      "metadata": {
        "id": "YH4lCXrGDezY"
      },
      "source": [
        "- 3-1의 문제와 동일한 문제에 대해서 Stochastic Gradient Descent를 사용해봅시다.\n",
        "\n",
        "- mini-batch : 1,000개의 dataset 중 10개."
      ]
    },
    {
      "cell_type": "code",
      "metadata": {
        "id": "nn8133mq6obv",
        "colab": {
          "base_uri": "https://localhost:8080/"
        },
        "outputId": "60564b33-36e0-4237-807a-d5ca920f0a49"
      },
      "source": [
        "train_x = (np.random.rand(1000) - 0.5) * 10\n",
        "train_y = np.zeros_like(train_x)\n",
        "\n",
        "def func(val):\n",
        "    fun = sym.poly(7*x + 2)\n",
        "    return fun.subs(x, val)\n",
        "\n",
        "for i in range(1000):\n",
        "    train_y[i] = func(train_x[i])\n",
        "\n",
        "# initialize\n",
        "w, b = 0.0, 0.0\n",
        "\n",
        "lr_rate = 1e-2\n",
        "n_data = 10\n",
        "errors = []\n",
        "\n",
        "for i in range(100):\n",
        "    ## Todo\n",
        "    # 미니배치\n",
        "    random_minibatch = np.random.choice(1000, 10)\n",
        "    mini_x = train_x[random_minibatch]\n",
        "    mini_y = train_y[random_minibatch]\n",
        "\n",
        "    # 예측값 y\n",
        "    _y = w*mini_x + b\n",
        "    er = _y - mini_y # 오차\n",
        "\n",
        "    # gradient\n",
        "    # 목적 함수는 평균 제곱 오차\n",
        "    gradient_w = np.sum((w * mini_x -mini_y + b) * 2 * mini_x) / n_data \n",
        "    gradient_b = np.sum((w * mini_x - mini_y + b) * 2) / n_data\n",
        "\n",
        "    # w, b update with gradient and learning rate\n",
        "    # 학습률*미분값을 계속 빼주면서 진행\n",
        "    w = w - lr_rate * gradient_w \n",
        "    b = b - lr_rate * gradient_b\n",
        "\n",
        "    # L2 norm과 np_sum 함수 활용해서 error 정의\n",
        "    error = np.linalg.norm(er, ord=2)\n",
        "    # Error graph 출력하기 위한 부분\n",
        "    errors.append(error)\n",
        "\n",
        "print(\"w : {} / b : {} / error : {}\".format(w, b, error))"
      ],
      "execution_count": null,
      "outputs": [
        {
          "output_type": "stream",
          "text": [
            "w : 7.002070530296501 / b : 1.7788464792769536 / error : 0.7129489199025011\n"
          ],
          "name": "stdout"
        }
      ]
    },
    {
      "cell_type": "markdown",
      "metadata": {
        "id": "8ZE2CsZWDj7W"
      },
      "source": [
        "- plot 함수를 이용해서 mini-batch를 사용한 stochastic gradient descent의 경우, error가 어떻게 줄어드는지 확인해봅시다.\n",
        "- 3.1의 full-batch gradient descent를 사용한 경우와 plot을 통해 비교를 해보면 차이를 좀 더 명확히 확인할 수 있습니다.\n",
        "    - full-batch의 경우, 매 epoch마다 전체 dataset을 모두 사용하여 GD를 하기 때문에 그래프가 매끄럽지만, SGD에 비하여 초기 수렴속도가 느린 편입니다.\n",
        "    - mini-batch의 경우, 매 epoch마다 mini-batch를 sampling해서 GD를 하기 때문에 그래프가 매끄럽지 않지만, 그만큼 초기에 빠르게 minimum으로 수렴하는 것을 확인할 수 있습니다."
      ]
    },
    {
      "cell_type": "code",
      "metadata": {
        "id": "bCpqNbBsDidu",
        "colab": {
          "base_uri": "https://localhost:8080/",
          "height": 334
        },
        "outputId": "c1ee0e3a-24db-44cd-d1bd-fc2ed5748135"
      },
      "source": [
        "plot(errors)"
      ],
      "execution_count": null,
      "outputs": [
        {
          "output_type": "display_data",
          "data": {
            "image/png": "[encoded data removed]",
            "text/plain": [
              "<Figure size 1440x360 with 1 Axes>"
            ]
          },
          "metadata": {
            "tags": [],
            "needs_background": "light"
          }
        }
      ]
    }
  ]
}